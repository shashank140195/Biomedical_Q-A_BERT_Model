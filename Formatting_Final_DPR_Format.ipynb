{
 "cells": [
  {
   "cell_type": "code",
   "execution_count": 1,
   "id": "8f59a8f9-8adc-4331-814d-167fa6e3f5d0",
   "metadata": {},
   "outputs": [],
   "source": [
    "import json\n",
    "import os"
   ]
  },
  {
   "cell_type": "code",
   "execution_count": 2,
   "id": "7e33440b-8434-417f-b2a7-6820550ebd3e",
   "metadata": {},
   "outputs": [],
   "source": [
    "file = open(\"/Users/shashankgupta/Desktop/DPR/BioASQ/Hard_negatives/added_hard/added_hard_training9b_dpr1.json\")\n",
    "training_file = json.load(file)"
   ]
  },
  {
   "cell_type": "code",
   "execution_count": 3,
   "id": "b5680cdf-56a7-46d8-9b05-72b63e1e9a73",
   "metadata": {},
   "outputs": [],
   "source": [
    "training_file\n",
    "for i in range(len(training_file)):\n",
    "    pos_list = []\n",
    "    hard_neg_list = []\n",
    "    negative_list = []\n",
    "    train_positive_ctxt = training_file[i]['positive_ctxs']\n",
    "    hard_negative_ctxt = training_file[i]['hard_negative_ctxs']\n",
    "    \n",
    "    train_positive_ctxt[\"title\"] = train_positive_ctxt.pop(\"articleTitle\")\n",
    "    train_positive_ctxt[\"text\"] = train_positive_ctxt.pop(\"articleAbstract\")\n",
    "    \n",
    "    hard_negative_ctxt[\"passage_id\"] = hard_negative_ctxt.pop(\"pmid\")\n",
    "    hard_negative_ctxt[\"title\"] = hard_negative_ctxt.pop(\"articleTitle\")\n",
    "    hard_negative_ctxt[\"text\"] = hard_negative_ctxt.pop(\"articleAbstract\")\n",
    "    \n",
    "    training_file[i]['negative_ctxs'] = negative_list\n",
    "    pos_list.append(train_positive_ctxt)\n",
    "    hard_neg_list.append(hard_negative_ctxt)\n",
    "    \n",
    "    training_file[i]['positive_ctxs'] = pos_list\n",
    "    training_file[i]['hard_negative_ctxs'] = hard_neg_list"
   ]
  },
  {
   "cell_type": "code",
   "execution_count": 4,
   "id": "2782afc8-b37c-43c9-b8cc-233b71991371",
   "metadata": {},
   "outputs": [],
   "source": [
    "# train_positive_ctxt"
   ]
  },
  {
   "cell_type": "code",
   "execution_count": 5,
   "id": "9e27a491-74d7-4dcd-96af-0e1afb689112",
   "metadata": {},
   "outputs": [],
   "source": [
    "with open(\"/Users/shashankgupta/Desktop/DPR/BioASQ/Hard_negatives/added_hard/added_hard_training9b_dpr2.json\", 'w') as outfile:\n",
    "    json.dump(training_file, outfile)"
   ]
  },
  {
   "cell_type": "code",
   "execution_count": null,
   "id": "cf5ff7f4-910d-45e2-a0e3-4d22b9051f33",
   "metadata": {},
   "outputs": [],
   "source": []
  },
  {
   "cell_type": "code",
   "execution_count": null,
   "id": "5ad67350-fe98-4b9c-8e4f-df276447ec4f",
   "metadata": {},
   "outputs": [],
   "source": []
  },
  {
   "cell_type": "code",
   "execution_count": null,
   "id": "77ef587d-9ef2-4092-b855-b8310ee27f51",
   "metadata": {},
   "outputs": [],
   "source": []
  }
 ],
 "metadata": {
  "kernelspec": {
   "display_name": "Python 3",
   "language": "python",
   "name": "python3"
  },
  "language_info": {
   "codemirror_mode": {
    "name": "ipython",
    "version": 3
   },
   "file_extension": ".py",
   "mimetype": "text/x-python",
   "name": "python",
   "nbconvert_exporter": "python",
   "pygments_lexer": "ipython3",
   "version": "3.8.8"
  }
 },
 "nbformat": 4,
 "nbformat_minor": 5
}
