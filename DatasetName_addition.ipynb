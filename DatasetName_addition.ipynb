{
 "cells": [
  {
   "cell_type": "code",
   "execution_count": 1,
   "id": "8557cf21-8c45-4a9e-bb2e-f6bc84ec8796",
   "metadata": {},
   "outputs": [],
   "source": [
    "import json\n",
    "import os"
   ]
  },
  {
   "cell_type": "code",
   "execution_count": 2,
   "id": "c2a7a96d-734c-4cfc-ae1e-79834b5d22c0",
   "metadata": {},
   "outputs": [],
   "source": [
    "file = open(\"/Users/shashankgupta/Desktop/DPR/BioASQ/Hard_negatives/added_hard/added_hard_training9b_dpr2.json\")\n",
    "training_file = json.load(file)"
   ]
  },
  {
   "cell_type": "code",
   "execution_count": 3,
   "id": "ceb200f0-ccd9-412a-b2aa-e5e1e3b3de90",
   "metadata": {},
   "outputs": [
    {
     "name": "stdout",
     "output_type": "stream",
     "text": [
      "<class 'list'>\n"
     ]
    }
   ],
   "source": [
    "print(type(training_file))"
   ]
  },
  {
   "cell_type": "code",
   "execution_count": 4,
   "id": "0ca4a55c-9bff-4fa6-84d3-d87e942c1d9e",
   "metadata": {},
   "outputs": [],
   "source": [
    "for i in training_file:\n",
    "    i[\"dataset\"] = \"bioASQ\""
   ]
  },
  {
   "cell_type": "code",
   "execution_count": 5,
   "id": "05842a18-8087-4e66-9815-4511b15bd92f",
   "metadata": {},
   "outputs": [],
   "source": [
    "with open(\"/Users/shashankgupta/Desktop/DPR/BioASQ/Hard_negatives/added_hard/added_hard_training9b_dpr_final.json\", 'w') as outfile:\n",
    "    json.dump(training_file, outfile)"
   ]
  },
  {
   "cell_type": "code",
   "execution_count": null,
   "id": "1bdcf706-ec6e-47ad-83d7-7fcb08695989",
   "metadata": {},
   "outputs": [],
   "source": []
  }
 ],
 "metadata": {
  "kernelspec": {
   "display_name": "Python 3",
   "language": "python",
   "name": "python3"
  },
  "language_info": {
   "codemirror_mode": {
    "name": "ipython",
    "version": 3
   },
   "file_extension": ".py",
   "mimetype": "text/x-python",
   "name": "python",
   "nbconvert_exporter": "python",
   "pygments_lexer": "ipython3",
   "version": "3.8.8"
  }
 },
 "nbformat": 4,
 "nbformat_minor": 5
}
