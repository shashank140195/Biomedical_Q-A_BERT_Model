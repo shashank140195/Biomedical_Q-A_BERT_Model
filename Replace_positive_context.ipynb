{
 "cells": [
  {
   "cell_type": "code",
   "execution_count": 1,
   "id": "33f8f7df-e6ea-4d9e-bae7-c51682f8d002",
   "metadata": {},
   "outputs": [],
   "source": [
    "import json\n",
    "import os"
   ]
  },
  {
   "cell_type": "code",
   "execution_count": 2,
   "id": "ef252c16-9b3e-40f8-a936-ce3b7c458c27",
   "metadata": {},
   "outputs": [],
   "source": [
    "directory = '/Users/shashankgupta/Desktop/DPR/BioASQ/Positive contexts/query_posi/'\n",
    "arr = os.listdir(directory)"
   ]
  },
  {
   "cell_type": "code",
   "execution_count": 3,
   "id": "80e845f4-45ef-4550-8e5f-052f3ff7ecd7",
   "metadata": {},
   "outputs": [
    {
     "data": {
      "text/plain": [
       "['p1.json',\n",
       " 'p7.json',\n",
       " 'p10.json',\n",
       " 'p6.json',\n",
       " 'p5.json',\n",
       " 'p9.json',\n",
       " 'p8.json',\n",
       " 'p4.json',\n",
       " 'p3.json',\n",
       " 'p2.json']"
      ]
     },
     "execution_count": 3,
     "metadata": {},
     "output_type": "execute_result"
    }
   ],
   "source": [
    "arr "
   ]
  },
  {
   "cell_type": "code",
   "execution_count": 4,
   "id": "ab6e9cc3-d079-4dc0-b81c-9a71f105b23e",
   "metadata": {},
   "outputs": [
    {
     "name": "stdout",
     "output_type": "stream",
     "text": [
      "<class 'list'>\n"
     ]
    },
    {
     "data": {
      "text/plain": [
       "'Is the protein Papilin secreted?'"
      ]
     },
     "execution_count": 4,
     "metadata": {},
     "output_type": "execute_result"
    }
   ],
   "source": [
    "file = open(\"/Users/shashankgupta/Desktop/DPR/BioASQ/Hard_negatives/added_hard/added_hard_training9b_dpr.json\")\n",
    "training_file = json.load(file)\n",
    "print(type(training_file))\n",
    "\n",
    "for i in range(len(training_file)):\n",
    "    train_question = training_file[i]['question']\n",
    "    break\n",
    "train_question"
   ]
  },
  {
   "cell_type": "code",
   "execution_count": 5,
   "id": "caabc08b-b914-4008-abbf-3dd27d6b135b",
   "metadata": {},
   "outputs": [],
   "source": [
    "new_training_file = list()\n",
    "for i in range(len(training_file)):\n",
    "    dict_new = {}\n",
    "    question_found = 0\n",
    "\n",
    "    train_question = training_file[i]['question']\n",
    "\n",
    "    for file_name in arr:\n",
    "        file_path = directory + file_name\n",
    "        f = open(file_path)\n",
    "        data = json.load(f)\n",
    "\n",
    "        if train_question in data.keys():\n",
    "            articleTitle = data[train_question]['articleTitle']\n",
    "            articleAbstract = data[train_question]['articleAbstract']\n",
    "            articlePmid = data[train_question]['pmid']\n",
    "            dict_new['articleTitle'] = articleTitle\n",
    "            dict_new['articleAbstract'] = articleAbstract\n",
    "            dict_new['passage_id'] = articlePmid\n",
    "            training_file[i]['positive_ctxs'] = dict_new\n",
    "\n",
    "            new_training_file.append(training_file[i])\n",
    "\n",
    "            break"
   ]
  },
  {
   "cell_type": "code",
   "execution_count": null,
   "id": "b372dae8-a8b5-4a2e-8f6c-b76ac1c43fe9",
   "metadata": {},
   "outputs": [],
   "source": []
  },
  {
   "cell_type": "code",
   "execution_count": 6,
   "id": "94a70582-38f9-4a9a-866a-12ba6d9a5995",
   "metadata": {},
   "outputs": [],
   "source": [
    "with open(\"/Users/shashankgupta/Desktop/DPR/BioASQ/Hard_negatives/added_hard/added_hard_training9b_dpr1.json\", 'w') as outfile:\n",
    "    json.dump(new_training_file, outfile)"
   ]
  },
  {
   "cell_type": "code",
   "execution_count": null,
   "id": "af9ad4f0-f1fd-4e01-b2e5-3332ecea6e27",
   "metadata": {},
   "outputs": [],
   "source": []
  },
  {
   "cell_type": "code",
   "execution_count": null,
   "id": "ff0edfad-9b81-4863-9453-fb230554f597",
   "metadata": {},
   "outputs": [],
   "source": []
  }
 ],
 "metadata": {
  "kernelspec": {
   "display_name": "Python 3",
   "language": "python",
   "name": "python3"
  },
  "language_info": {
   "codemirror_mode": {
    "name": "ipython",
    "version": 3
   },
   "file_extension": ".py",
   "mimetype": "text/x-python",
   "name": "python",
   "nbconvert_exporter": "python",
   "pygments_lexer": "ipython3",
   "version": "3.8.8"
  }
 },
 "nbformat": 4,
 "nbformat_minor": 5
}
